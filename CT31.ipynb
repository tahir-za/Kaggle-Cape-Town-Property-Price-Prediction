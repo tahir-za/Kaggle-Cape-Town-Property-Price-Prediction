{
 "cells": [
  {
   "cell_type": "code",
   "execution_count": 1,
   "metadata": {},
   "outputs": [],
   "source": [
    "import numpy as np\n",
    "import pandas as pd\n",
    "import matplotlib.pyplot as plt\n",
    "import seaborn as sns\n",
    "from scipy import stats\n",
    "from scipy.stats import skew, norm\n",
    "from scipy.special import boxcox1p, boxcox\n",
    "import warnings\n",
    "import datetime\n",
    "\n",
    "warnings.filterwarnings('ignore')\n",
    "%matplotlib inline\n",
    "\n"
   ]
  },
  {
   "cell_type": "code",
   "execution_count": 2,
   "metadata": {},
   "outputs": [
    {
     "name": "stdout",
     "output_type": "stream",
     "text": [
      "(1351, 13)\n",
      "(338, 12)\n"
     ]
    }
   ],
   "source": [
    "train = pd.read_csv(\"train.csv\")\n",
    "test = pd.read_csv(\"test.csv\")\n",
    "test_id = pd.read_csv(\"test.csv\")\n",
    "len_train = train.shape[0]\n",
    "combined = pd.concat([train,test], sort=False)\n",
    "print(train.shape)\n",
    "print(test.shape)"
   ]
  },
  {
   "cell_type": "code",
   "execution_count": 3,
   "metadata": {},
   "outputs": [],
   "source": [
    "#Delete Data-URL, irrelevant\n",
    "train = train.drop('data-url', 1)\n",
    "test = test.drop('data-url', 1)"
   ]
  },
  {
   "cell_type": "code",
   "execution_count": 4,
   "metadata": {},
   "outputs": [],
   "source": [
    "#First try, fill with 0's\n",
    "zeros = ('buildingSize','erfSize','garage')\n",
    "ones = ('bathroom', 'bedroom')\n",
    "\n",
    "\n",
    "for col in zeros:\n",
    "    train[col] = train[col].fillna(0)\n",
    "    test[col] = test[col].fillna(0)\n",
    "    \n",
    "for col in ones:\n",
    "    train[col] = train[col].fillna(1)\n",
    "    test[col] = test[col].fillna(1)"
   ]
  },
  {
   "cell_type": "code",
   "execution_count": 5,
   "metadata": {},
   "outputs": [
    {
     "data": {
      "text/plain": [
       "Series([], dtype: int64)"
      ]
     },
     "execution_count": 5,
     "metadata": {},
     "output_type": "execute_result"
    }
   ],
   "source": [
    "train.isnull().sum().sort_index()[train.isnull().sum() > 0]"
   ]
  },
  {
   "cell_type": "code",
   "execution_count": 6,
   "metadata": {},
   "outputs": [
    {
     "data": {
      "text/plain": [
       "Series([], dtype: int64)"
      ]
     },
     "execution_count": 6,
     "metadata": {},
     "output_type": "execute_result"
    }
   ],
   "source": [
    "test.isnull().sum().sort_index()[test.isnull().sum() > 0]"
   ]
  },
  {
   "cell_type": "code",
   "execution_count": 7,
   "metadata": {},
   "outputs": [],
   "source": [
    "train = train.drop(train[(train['erfSize']>10000) & (train['data-price']<3000000)].index)"
   ]
  },
  {
   "cell_type": "code",
   "execution_count": 8,
   "metadata": {},
   "outputs": [
    {
     "data": {
      "text/plain": [
       "(1349, 12)"
      ]
     },
     "execution_count": 8,
     "metadata": {},
     "output_type": "execute_result"
    }
   ],
   "source": [
    "train.shape"
   ]
  },
  {
   "cell_type": "code",
   "execution_count": 9,
   "metadata": {},
   "outputs": [],
   "source": [
    "#Correct for skewness in SalesPrice using nplog\n",
    "train['data-price'] = np.log1p(train['data-price'])"
   ]
  },
  {
   "cell_type": "code",
   "execution_count": 10,
   "metadata": {},
   "outputs": [
    {
     "name": "stdout",
     "output_type": "stream",
     "text": [
      "(1687, 12)\n"
     ]
    }
   ],
   "source": [
    "len_train=train.shape[0]\n",
    "combined = pd.concat([train,test], sort=False)\n",
    "print(combined.shape)"
   ]
  },
  {
   "cell_type": "code",
   "execution_count": 12,
   "metadata": {},
   "outputs": [],
   "source": [
    "#add_datepart(combined, 'data-date')"
   ]
  },
  {
   "cell_type": "code",
   "execution_count": 11,
   "metadata": {},
   "outputs": [
    {
     "data": {
      "text/html": [
       "<div>\n",
       "<style scoped>\n",
       "    .dataframe tbody tr th:only-of-type {\n",
       "        vertical-align: middle;\n",
       "    }\n",
       "\n",
       "    .dataframe tbody tr th {\n",
       "        vertical-align: top;\n",
       "    }\n",
       "\n",
       "    .dataframe thead th {\n",
       "        text-align: right;\n",
       "    }\n",
       "</style>\n",
       "<table border=\"1\" class=\"dataframe\">\n",
       "  <thead>\n",
       "    <tr style=\"text-align: right;\">\n",
       "      <th></th>\n",
       "      <th>house-id</th>\n",
       "      <th>area</th>\n",
       "      <th>bathroom</th>\n",
       "      <th>bedroom</th>\n",
       "      <th>buildingSize</th>\n",
       "      <th>data-date</th>\n",
       "      <th>data-isonshow</th>\n",
       "      <th>data-location</th>\n",
       "      <th>erfSize</th>\n",
       "      <th>garage</th>\n",
       "      <th>type</th>\n",
       "      <th>data-price</th>\n",
       "    </tr>\n",
       "  </thead>\n",
       "  <tbody>\n",
       "    <tr>\n",
       "      <th>0</th>\n",
       "      <td>1</td>\n",
       "      <td>boland-winelands</td>\n",
       "      <td>3.0</td>\n",
       "      <td>3.0</td>\n",
       "      <td>300.0</td>\n",
       "      <td>2018-05-31 14:44:46</td>\n",
       "      <td>False</td>\n",
       "      <td>La Sandra</td>\n",
       "      <td>1240.0</td>\n",
       "      <td>2.0</td>\n",
       "      <td>house</td>\n",
       "      <td>15.598902</td>\n",
       "    </tr>\n",
       "    <tr>\n",
       "      <th>1</th>\n",
       "      <td>2</td>\n",
       "      <td>northern-suburbs</td>\n",
       "      <td>1.0</td>\n",
       "      <td>2.0</td>\n",
       "      <td>0.0</td>\n",
       "      <td>2018-05-16 12:23:46</td>\n",
       "      <td>False</td>\n",
       "      <td>Observatory</td>\n",
       "      <td>105.0</td>\n",
       "      <td>0.0</td>\n",
       "      <td>house</td>\n",
       "      <td>14.343194</td>\n",
       "    </tr>\n",
       "    <tr>\n",
       "      <th>2</th>\n",
       "      <td>3</td>\n",
       "      <td>boland-winelands</td>\n",
       "      <td>3.0</td>\n",
       "      <td>5.0</td>\n",
       "      <td>0.0</td>\n",
       "      <td>2018-05-29 15:38:01</td>\n",
       "      <td>False</td>\n",
       "      <td>Riebeek Valley</td>\n",
       "      <td>238.0</td>\n",
       "      <td>2.0</td>\n",
       "      <td>apartment</td>\n",
       "      <td>15.341567</td>\n",
       "    </tr>\n",
       "    <tr>\n",
       "      <th>3</th>\n",
       "      <td>4</td>\n",
       "      <td>boland-winelands</td>\n",
       "      <td>2.0</td>\n",
       "      <td>3.0</td>\n",
       "      <td>124.0</td>\n",
       "      <td>2016-07-04 10:26:20</td>\n",
       "      <td>False</td>\n",
       "      <td>Strand South</td>\n",
       "      <td>124.0</td>\n",
       "      <td>1.0</td>\n",
       "      <td>apartment</td>\n",
       "      <td>14.038655</td>\n",
       "    </tr>\n",
       "    <tr>\n",
       "      <th>4</th>\n",
       "      <td>5</td>\n",
       "      <td>boland-winelands</td>\n",
       "      <td>4.0</td>\n",
       "      <td>4.0</td>\n",
       "      <td>400.0</td>\n",
       "      <td>2016-10-21 09:30:10</td>\n",
       "      <td>False</td>\n",
       "      <td>Ceres</td>\n",
       "      <td>500.0</td>\n",
       "      <td>0.0</td>\n",
       "      <td>house</td>\n",
       "      <td>15.725053</td>\n",
       "    </tr>\n",
       "  </tbody>\n",
       "</table>\n",
       "</div>"
      ],
      "text/plain": [
       "   house-id              area  bathroom  bedroom  buildingSize  \\\n",
       "0         1  boland-winelands       3.0      3.0         300.0   \n",
       "1         2  northern-suburbs       1.0      2.0           0.0   \n",
       "2         3  boland-winelands       3.0      5.0           0.0   \n",
       "3         4  boland-winelands       2.0      3.0         124.0   \n",
       "4         5  boland-winelands       4.0      4.0         400.0   \n",
       "\n",
       "             data-date  data-isonshow   data-location  erfSize  garage  \\\n",
       "0  2018-05-31 14:44:46          False       La Sandra   1240.0     2.0   \n",
       "1  2018-05-16 12:23:46          False     Observatory    105.0     0.0   \n",
       "2  2018-05-29 15:38:01          False  Riebeek Valley    238.0     2.0   \n",
       "3  2016-07-04 10:26:20          False    Strand South    124.0     1.0   \n",
       "4  2016-10-21 09:30:10          False           Ceres    500.0     0.0   \n",
       "\n",
       "        type  data-price  \n",
       "0      house   15.598902  \n",
       "1      house   14.343194  \n",
       "2  apartment   15.341567  \n",
       "3  apartment   14.038655  \n",
       "4      house   15.725053  "
      ]
     },
     "execution_count": 11,
     "metadata": {},
     "output_type": "execute_result"
    }
   ],
   "source": [
    "combined.head()"
   ]
  },
  {
   "cell_type": "code",
   "execution_count": 12,
   "metadata": {},
   "outputs": [
    {
     "name": "stdout",
     "output_type": "stream",
     "text": [
      "\n",
      "Skew in numerical features: \n",
      "\n"
     ]
    },
    {
     "data": {
      "text/html": [
       "<div>\n",
       "<style scoped>\n",
       "    .dataframe tbody tr th:only-of-type {\n",
       "        vertical-align: middle;\n",
       "    }\n",
       "\n",
       "    .dataframe tbody tr th {\n",
       "        vertical-align: top;\n",
       "    }\n",
       "\n",
       "    .dataframe thead th {\n",
       "        text-align: right;\n",
       "    }\n",
       "</style>\n",
       "<table border=\"1\" class=\"dataframe\">\n",
       "  <thead>\n",
       "    <tr style=\"text-align: right;\">\n",
       "      <th></th>\n",
       "      <th>Skew</th>\n",
       "    </tr>\n",
       "  </thead>\n",
       "  <tbody>\n",
       "    <tr>\n",
       "      <th>erfSize</th>\n",
       "      <td>7.448560</td>\n",
       "    </tr>\n",
       "    <tr>\n",
       "      <th>data-isonshow</th>\n",
       "      <td>5.429007</td>\n",
       "    </tr>\n",
       "    <tr>\n",
       "      <th>buildingSize</th>\n",
       "      <td>1.005642</td>\n",
       "    </tr>\n",
       "    <tr>\n",
       "      <th>bathroom</th>\n",
       "      <td>0.960948</td>\n",
       "    </tr>\n",
       "    <tr>\n",
       "      <th>bedroom</th>\n",
       "      <td>0.724898</td>\n",
       "    </tr>\n",
       "    <tr>\n",
       "      <th>garage</th>\n",
       "      <td>0.530627</td>\n",
       "    </tr>\n",
       "    <tr>\n",
       "      <th>house-id</th>\n",
       "      <td>0.000858</td>\n",
       "    </tr>\n",
       "  </tbody>\n",
       "</table>\n",
       "</div>"
      ],
      "text/plain": [
       "                   Skew\n",
       "erfSize        7.448560\n",
       "data-isonshow  5.429007\n",
       "buildingSize   1.005642\n",
       "bathroom       0.960948\n",
       "bedroom        0.724898\n",
       "garage         0.530627\n",
       "house-id       0.000858"
      ]
     },
     "execution_count": 12,
     "metadata": {},
     "output_type": "execute_result"
    }
   ],
   "source": [
    "num_feats = combined.dtypes[combined.dtypes != \"object\"].index\n",
    "\n",
    "# Check the skew of all numerical features\n",
    "skewed_feats = combined[num_feats].apply(lambda x: skew(x.dropna())).sort_values(ascending=False)\n",
    "print(\"\\nSkew in numerical features: \\n\")\n",
    "skewness = pd.DataFrame({'Skew' :skewed_feats})\n",
    "skewness = skewness.drop('data-price', 0)\n",
    "skewness.head(15)"
   ]
  },
  {
   "cell_type": "code",
   "execution_count": 13,
   "metadata": {},
   "outputs": [
    {
     "name": "stdout",
     "output_type": "stream",
     "text": [
      "There are 6 skewed numerical features to Box Cox transform\n"
     ]
    }
   ],
   "source": [
    "#Correct for skewness by using boxcox1p\n",
    "skewness = skewness[abs(skewness) > 0.5]\n",
    "skewness = skewness.drop('house-id' ,0)\n",
    "print(\"There are {} skewed numerical features to Box Cox transform\".format(skewness.shape[0]))\n",
    "\n",
    "skewed_features = skewness.index\n",
    "lam = 0.15\n",
    "for feat in skewed_features:\n",
    "    combined[feat] = boxcox1p(combined[feat], lam)"
   ]
  },
  {
   "cell_type": "code",
   "execution_count": 14,
   "metadata": {},
   "outputs": [
    {
     "data": {
      "text/html": [
       "<div>\n",
       "<style scoped>\n",
       "    .dataframe tbody tr th:only-of-type {\n",
       "        vertical-align: middle;\n",
       "    }\n",
       "\n",
       "    .dataframe tbody tr th {\n",
       "        vertical-align: top;\n",
       "    }\n",
       "\n",
       "    .dataframe thead th {\n",
       "        text-align: right;\n",
       "    }\n",
       "</style>\n",
       "<table border=\"1\" class=\"dataframe\">\n",
       "  <thead>\n",
       "    <tr style=\"text-align: right;\">\n",
       "      <th></th>\n",
       "      <th>house-id</th>\n",
       "      <th>area</th>\n",
       "      <th>bathroom</th>\n",
       "      <th>bedroom</th>\n",
       "      <th>buildingSize</th>\n",
       "      <th>data-date</th>\n",
       "      <th>data-isonshow</th>\n",
       "      <th>data-location</th>\n",
       "      <th>erfSize</th>\n",
       "      <th>garage</th>\n",
       "      <th>type</th>\n",
       "      <th>data-price</th>\n",
       "    </tr>\n",
       "  </thead>\n",
       "  <tbody>\n",
       "    <tr>\n",
       "      <th>0</th>\n",
       "      <td>1</td>\n",
       "      <td>boland-winelands</td>\n",
       "      <td>1.540963</td>\n",
       "      <td>1.540963</td>\n",
       "      <td>9.025890</td>\n",
       "      <td>2018-05-31 14:44:46</td>\n",
       "      <td>0.0</td>\n",
       "      <td>La Sandra</td>\n",
       "      <td>12.741053</td>\n",
       "      <td>1.194318</td>\n",
       "      <td>house</td>\n",
       "      <td>15.598902</td>\n",
       "    </tr>\n",
       "    <tr>\n",
       "      <th>1</th>\n",
       "      <td>2</td>\n",
       "      <td>northern-suburbs</td>\n",
       "      <td>0.730463</td>\n",
       "      <td>1.194318</td>\n",
       "      <td>0.000000</td>\n",
       "      <td>2018-05-16 12:23:46</td>\n",
       "      <td>0.0</td>\n",
       "      <td>Observatory</td>\n",
       "      <td>6.751853</td>\n",
       "      <td>0.000000</td>\n",
       "      <td>house</td>\n",
       "      <td>14.343194</td>\n",
       "    </tr>\n",
       "    <tr>\n",
       "      <th>2</th>\n",
       "      <td>3</td>\n",
       "      <td>boland-winelands</td>\n",
       "      <td>1.540963</td>\n",
       "      <td>2.055642</td>\n",
       "      <td>0.000000</td>\n",
       "      <td>2018-05-29 15:38:01</td>\n",
       "      <td>0.0</td>\n",
       "      <td>Riebeek Valley</td>\n",
       "      <td>8.492259</td>\n",
       "      <td>1.194318</td>\n",
       "      <td>apartment</td>\n",
       "      <td>15.341567</td>\n",
       "    </tr>\n",
       "    <tr>\n",
       "      <th>3</th>\n",
       "      <td>4</td>\n",
       "      <td>boland-winelands</td>\n",
       "      <td>1.194318</td>\n",
       "      <td>1.540963</td>\n",
       "      <td>7.087847</td>\n",
       "      <td>2016-07-04 10:26:20</td>\n",
       "      <td>0.0</td>\n",
       "      <td>Strand South</td>\n",
       "      <td>7.087847</td>\n",
       "      <td>0.730463</td>\n",
       "      <td>apartment</td>\n",
       "      <td>14.038655</td>\n",
       "    </tr>\n",
       "    <tr>\n",
       "      <th>4</th>\n",
       "      <td>5</td>\n",
       "      <td>boland-winelands</td>\n",
       "      <td>1.820334</td>\n",
       "      <td>1.820334</td>\n",
       "      <td>9.715842</td>\n",
       "      <td>2016-10-21 09:30:10</td>\n",
       "      <td>0.0</td>\n",
       "      <td>Ceres</td>\n",
       "      <td>10.272202</td>\n",
       "      <td>0.000000</td>\n",
       "      <td>house</td>\n",
       "      <td>15.725053</td>\n",
       "    </tr>\n",
       "  </tbody>\n",
       "</table>\n",
       "</div>"
      ],
      "text/plain": [
       "   house-id              area  bathroom   bedroom  buildingSize  \\\n",
       "0         1  boland-winelands  1.540963  1.540963      9.025890   \n",
       "1         2  northern-suburbs  0.730463  1.194318      0.000000   \n",
       "2         3  boland-winelands  1.540963  2.055642      0.000000   \n",
       "3         4  boland-winelands  1.194318  1.540963      7.087847   \n",
       "4         5  boland-winelands  1.820334  1.820334      9.715842   \n",
       "\n",
       "             data-date  data-isonshow   data-location    erfSize    garage  \\\n",
       "0  2018-05-31 14:44:46            0.0       La Sandra  12.741053  1.194318   \n",
       "1  2018-05-16 12:23:46            0.0     Observatory   6.751853  0.000000   \n",
       "2  2018-05-29 15:38:01            0.0  Riebeek Valley   8.492259  1.194318   \n",
       "3  2016-07-04 10:26:20            0.0    Strand South   7.087847  0.730463   \n",
       "4  2016-10-21 09:30:10            0.0           Ceres  10.272202  0.000000   \n",
       "\n",
       "        type  data-price  \n",
       "0      house   15.598902  \n",
       "1      house   14.343194  \n",
       "2  apartment   15.341567  \n",
       "3  apartment   14.038655  \n",
       "4      house   15.725053  "
      ]
     },
     "execution_count": 14,
     "metadata": {},
     "output_type": "execute_result"
    }
   ],
   "source": [
    "combined.head()"
   ]
  },
  {
   "cell_type": "code",
   "execution_count": 15,
   "metadata": {},
   "outputs": [],
   "source": [
    "combined['data-date'] = pd.to_datetime(combined['data-date'])"
   ]
  },
  {
   "cell_type": "code",
   "execution_count": 16,
   "metadata": {},
   "outputs": [],
   "source": [
    "combined['Year'] = combined['data-date'].map(lambda x: x.year)"
   ]
  },
  {
   "cell_type": "code",
   "execution_count": 17,
   "metadata": {},
   "outputs": [],
   "source": [
    "combined['Month'] = combined['data-date'].map(lambda x: x.month)"
   ]
  },
  {
   "cell_type": "code",
   "execution_count": 18,
   "metadata": {},
   "outputs": [],
   "source": [
    "combined['Day'] = combined['data-date'].map(lambda x: x.day)"
   ]
  },
  {
   "cell_type": "code",
   "execution_count": 19,
   "metadata": {},
   "outputs": [],
   "source": [
    "combined['Time'] = combined['data-date'].map(lambda x: x.strftime('%H:%M:%S'))"
   ]
  },
  {
   "cell_type": "code",
   "execution_count": 20,
   "metadata": {},
   "outputs": [],
   "source": [
    "combined = combined.drop('data-date', 1)"
   ]
  },
  {
   "cell_type": "code",
   "execution_count": 21,
   "metadata": {},
   "outputs": [
    {
     "data": {
      "text/html": [
       "<div>\n",
       "<style scoped>\n",
       "    .dataframe tbody tr th:only-of-type {\n",
       "        vertical-align: middle;\n",
       "    }\n",
       "\n",
       "    .dataframe tbody tr th {\n",
       "        vertical-align: top;\n",
       "    }\n",
       "\n",
       "    .dataframe thead th {\n",
       "        text-align: right;\n",
       "    }\n",
       "</style>\n",
       "<table border=\"1\" class=\"dataframe\">\n",
       "  <thead>\n",
       "    <tr style=\"text-align: right;\">\n",
       "      <th></th>\n",
       "      <th>house-id</th>\n",
       "      <th>area</th>\n",
       "      <th>bathroom</th>\n",
       "      <th>bedroom</th>\n",
       "      <th>buildingSize</th>\n",
       "      <th>data-isonshow</th>\n",
       "      <th>data-location</th>\n",
       "      <th>erfSize</th>\n",
       "      <th>garage</th>\n",
       "      <th>type</th>\n",
       "      <th>data-price</th>\n",
       "      <th>Year</th>\n",
       "      <th>Month</th>\n",
       "      <th>Day</th>\n",
       "      <th>Time</th>\n",
       "    </tr>\n",
       "  </thead>\n",
       "  <tbody>\n",
       "    <tr>\n",
       "      <th>0</th>\n",
       "      <td>1</td>\n",
       "      <td>boland-winelands</td>\n",
       "      <td>1.540963</td>\n",
       "      <td>1.540963</td>\n",
       "      <td>9.025890</td>\n",
       "      <td>0.0</td>\n",
       "      <td>La Sandra</td>\n",
       "      <td>12.741053</td>\n",
       "      <td>1.194318</td>\n",
       "      <td>house</td>\n",
       "      <td>15.598902</td>\n",
       "      <td>2018</td>\n",
       "      <td>5</td>\n",
       "      <td>31</td>\n",
       "      <td>14:44:46</td>\n",
       "    </tr>\n",
       "    <tr>\n",
       "      <th>1</th>\n",
       "      <td>2</td>\n",
       "      <td>northern-suburbs</td>\n",
       "      <td>0.730463</td>\n",
       "      <td>1.194318</td>\n",
       "      <td>0.000000</td>\n",
       "      <td>0.0</td>\n",
       "      <td>Observatory</td>\n",
       "      <td>6.751853</td>\n",
       "      <td>0.000000</td>\n",
       "      <td>house</td>\n",
       "      <td>14.343194</td>\n",
       "      <td>2018</td>\n",
       "      <td>5</td>\n",
       "      <td>16</td>\n",
       "      <td>12:23:46</td>\n",
       "    </tr>\n",
       "    <tr>\n",
       "      <th>2</th>\n",
       "      <td>3</td>\n",
       "      <td>boland-winelands</td>\n",
       "      <td>1.540963</td>\n",
       "      <td>2.055642</td>\n",
       "      <td>0.000000</td>\n",
       "      <td>0.0</td>\n",
       "      <td>Riebeek Valley</td>\n",
       "      <td>8.492259</td>\n",
       "      <td>1.194318</td>\n",
       "      <td>apartment</td>\n",
       "      <td>15.341567</td>\n",
       "      <td>2018</td>\n",
       "      <td>5</td>\n",
       "      <td>29</td>\n",
       "      <td>15:38:01</td>\n",
       "    </tr>\n",
       "    <tr>\n",
       "      <th>3</th>\n",
       "      <td>4</td>\n",
       "      <td>boland-winelands</td>\n",
       "      <td>1.194318</td>\n",
       "      <td>1.540963</td>\n",
       "      <td>7.087847</td>\n",
       "      <td>0.0</td>\n",
       "      <td>Strand South</td>\n",
       "      <td>7.087847</td>\n",
       "      <td>0.730463</td>\n",
       "      <td>apartment</td>\n",
       "      <td>14.038655</td>\n",
       "      <td>2016</td>\n",
       "      <td>7</td>\n",
       "      <td>4</td>\n",
       "      <td>10:26:20</td>\n",
       "    </tr>\n",
       "    <tr>\n",
       "      <th>4</th>\n",
       "      <td>5</td>\n",
       "      <td>boland-winelands</td>\n",
       "      <td>1.820334</td>\n",
       "      <td>1.820334</td>\n",
       "      <td>9.715842</td>\n",
       "      <td>0.0</td>\n",
       "      <td>Ceres</td>\n",
       "      <td>10.272202</td>\n",
       "      <td>0.000000</td>\n",
       "      <td>house</td>\n",
       "      <td>15.725053</td>\n",
       "      <td>2016</td>\n",
       "      <td>10</td>\n",
       "      <td>21</td>\n",
       "      <td>09:30:10</td>\n",
       "    </tr>\n",
       "  </tbody>\n",
       "</table>\n",
       "</div>"
      ],
      "text/plain": [
       "   house-id              area  bathroom   bedroom  buildingSize  \\\n",
       "0         1  boland-winelands  1.540963  1.540963      9.025890   \n",
       "1         2  northern-suburbs  0.730463  1.194318      0.000000   \n",
       "2         3  boland-winelands  1.540963  2.055642      0.000000   \n",
       "3         4  boland-winelands  1.194318  1.540963      7.087847   \n",
       "4         5  boland-winelands  1.820334  1.820334      9.715842   \n",
       "\n",
       "   data-isonshow   data-location    erfSize    garage       type  data-price  \\\n",
       "0            0.0       La Sandra  12.741053  1.194318      house   15.598902   \n",
       "1            0.0     Observatory   6.751853  0.000000      house   14.343194   \n",
       "2            0.0  Riebeek Valley   8.492259  1.194318  apartment   15.341567   \n",
       "3            0.0    Strand South   7.087847  0.730463  apartment   14.038655   \n",
       "4            0.0           Ceres  10.272202  0.000000      house   15.725053   \n",
       "\n",
       "   Year  Month  Day      Time  \n",
       "0  2018      5   31  14:44:46  \n",
       "1  2018      5   16  12:23:46  \n",
       "2  2018      5   29  15:38:01  \n",
       "3  2016      7    4  10:26:20  \n",
       "4  2016     10   21  09:30:10  "
      ]
     },
     "execution_count": 21,
     "metadata": {},
     "output_type": "execute_result"
    }
   ],
   "source": [
    "combined.head()"
   ]
  },
  {
   "cell_type": "code",
   "execution_count": 22,
   "metadata": {},
   "outputs": [],
   "source": [
    "#Get Dummies\n",
    "combined = pd.get_dummies(combined)\n",
    "len_train = train.shape[0]"
   ]
  },
  {
   "cell_type": "code",
   "execution_count": 23,
   "metadata": {},
   "outputs": [
    {
     "data": {
      "text/plain": [
       "(1349, 12)"
      ]
     },
     "execution_count": 23,
     "metadata": {},
     "output_type": "execute_result"
    }
   ],
   "source": [
    "train.shape"
   ]
  },
  {
   "cell_type": "code",
   "execution_count": 24,
   "metadata": {},
   "outputs": [
    {
     "data": {
      "text/plain": [
       "(1349, 1198)"
      ]
     },
     "execution_count": 24,
     "metadata": {},
     "output_type": "execute_result"
    }
   ],
   "source": [
    "train = combined[:len_train]\n",
    "y_train = train['data-price'].values\n",
    "train = train.drop(['house-id','data-price'], 1)\n",
    "test = combined[len_train:]\n",
    "test = test.drop(['house-id','data-price'], 1)\n",
    "train.shape"
   ]
  },
  {
   "cell_type": "code",
   "execution_count": 25,
   "metadata": {},
   "outputs": [],
   "source": [
    "from sklearn.linear_model import Lasso, Ridge, LinearRegression, ElasticNet\n",
    "from sklearn.ensemble import RandomForestRegressor,  GradientBoostingRegressor\n",
    "from sklearn.pipeline import make_pipeline\n",
    "from sklearn.preprocessing import RobustScaler\n",
    "from sklearn.model_selection import KFold, cross_val_score, train_test_split\n",
    "from sklearn.metrics import mean_squared_error\n",
    "\n",
    "\n"
   ]
  },
  {
   "cell_type": "code",
   "execution_count": 26,
   "metadata": {},
   "outputs": [],
   "source": [
    "#Validation function - Courtesy of ....\n",
    "n_folds = 5\n",
    "def rmsle_cv(model):\n",
    "    kf = KFold(n_folds, shuffle=True, random_state=42).get_n_splits(train.values)\n",
    "    rmse= np.sqrt(-cross_val_score(model, train.values, y_train, scoring=\"neg_mean_squared_error\", cv = kf))\n",
    "    return(rmse)\n"
   ]
  },
  {
   "cell_type": "markdown",
   "metadata": {},
   "source": [
    "### Linear Regression"
   ]
  },
  {
   "cell_type": "code",
   "execution_count": 27,
   "metadata": {},
   "outputs": [
    {
     "name": "stdout",
     "output_type": "stream",
     "text": [
      "Random Forest score: 0.2186 (0.0251)\n",
      "\n"
     ]
    }
   ],
   "source": [
    "LinReg = LinearRegression()\n",
    "score = rmsle_cv(LinReg)\n",
    "print(\"Random Forest score: {:.4f} ({:.4f})\\n\".format(score.mean(), score.std()))"
   ]
  },
  {
   "cell_type": "markdown",
   "metadata": {},
   "source": [
    "### Ridge Regression"
   ]
  },
  {
   "cell_type": "code",
   "execution_count": 28,
   "metadata": {},
   "outputs": [
    {
     "name": "stdout",
     "output_type": "stream",
     "text": [
      "Ridge score: 0.2143 (0.0204)\n",
      "\n"
     ]
    }
   ],
   "source": [
    "RG = Ridge(alpha=0.01, random_state = 5)\n",
    "score = rmsle_cv(RG)\n",
    "print(\"Ridge score: {:.4f} ({:.4f})\\n\".format(score.mean(), score.std()))"
   ]
  },
  {
   "cell_type": "markdown",
   "metadata": {},
   "source": [
    "### Lasso Regression"
   ]
  },
  {
   "cell_type": "code",
   "execution_count": 29,
   "metadata": {},
   "outputs": [
    {
     "name": "stdout",
     "output_type": "stream",
     "text": [
      "Lasso score: 0.2142 (0.0234)\n",
      "\n"
     ]
    }
   ],
   "source": [
    "lasso = make_pipeline(RobustScaler(), Lasso(alpha =0.00001, random_state = 5))\n",
    "score = rmsle_cv(lasso)\n",
    "print(\"Lasso score: {:.4f} ({:.4f})\\n\".format(score.mean(), score.std()))"
   ]
  },
  {
   "cell_type": "code",
   "execution_count": 60,
   "metadata": {},
   "outputs": [
    {
     "name": "stdout",
     "output_type": "stream",
     "text": [
      "Kernel Ridge score: 0.2139 (0.0213)\n",
      "\n"
     ]
    }
   ],
   "source": [
    "from sklearn.kernel_ridge import KernelRidge\n",
    "KRR = KernelRidge(alpha=0.085, kernel='polynomial', degree=2, coef0=2.5)\n",
    "score = rmsle_cv(KRR)\n",
    "print(\"Kernel Ridge score: {:.4f} ({:.4f})\\n\".format(score.mean(), score.std()))\n"
   ]
  },
  {
   "cell_type": "markdown",
   "metadata": {},
   "source": [
    "### XGBoost"
   ]
  },
  {
   "cell_type": "code",
   "execution_count": 34,
   "metadata": {},
   "outputs": [
    {
     "data": {
      "text/plain": [
       "'data_dmatrix = xgb.DMatrix(data=train.values,label=y_train)\\nXGBoost = xgb.XGBRegressor(random_state = 5, max_depth = 3, alpha = 10, n_estimators = 1000,\\n                           learning_rate = 0.3, objective = \\'reg:squarederror\\', colsample_bytree = 0.5,\\n                          subsample = 0.75)\\nscore = rmsle_cv(XGBoost)\\nprint(\"Gradient Boosting score: {:.4f} ({:.4f})\\n\".format(score.mean(), score.std()))'"
      ]
     },
     "execution_count": 34,
     "metadata": {},
     "output_type": "execute_result"
    }
   ],
   "source": [
    "'''data_dmatrix = xgb.DMatrix(data=train.values,label=y_train)\n",
    "XGBoost = xgb.XGBRegressor(random_state = 5, max_depth = 3, alpha = 10, n_estimators = 1000,\n",
    "                           learning_rate = 0.3, objective = 'reg:squarederror', colsample_bytree = 0.5,\n",
    "                          subsample = 0.75)\n",
    "score = rmsle_cv(XGBoost)\n",
    "print(\"Gradient Boosting score: {:.4f} ({:.4f})\\n\".format(score.mean(), score.std()))'''"
   ]
  },
  {
   "cell_type": "markdown",
   "metadata": {
    "_uuid": "c854d61f20f4cdab8a37b5037c3908f783b5e644"
   },
   "source": [
    "## Elastic Net Regression\n",
    "\n",
    "Elastic net is basically a combination of both L1 and L2 regularization. So if you know elastic net, you can implement both Ridge and Lasso by tuning the parameters."
   ]
  },
  {
   "cell_type": "code",
   "execution_count": 41,
   "metadata": {
    "_uuid": "d06ca9a5f9db49890db7999ffe9db7333f02edc6"
   },
   "outputs": [
    {
     "name": "stdout",
     "output_type": "stream",
     "text": [
      "ElasticNet score: 0.2136 (0.0206)\n",
      "\n"
     ]
    }
   ],
   "source": [
    "ENet = make_pipeline(RobustScaler(), ElasticNet(alpha=0.0001, l1_ratio=0.1, random_state=3))\n",
    "score = rmsle_cv(ENet)\n",
    "print(\"ElasticNet score: {:.4f} ({:.4f})\\n\".format(score.mean(), score.std()))"
   ]
  },
  {
   "cell_type": "markdown",
   "metadata": {},
   "source": [
    "### We then fit the training data to all models"
   ]
  },
  {
   "cell_type": "code",
   "execution_count": 61,
   "metadata": {},
   "outputs": [],
   "source": [
    "#Fit the training dataset on every model\n",
    "lr = LinReg.fit(train, y_train)\n",
    "ls = lasso.fit(train, y_train)\n",
    "rg = RG.fit(train, y_train)\n",
    "kr = KRR.fit(train, y_train)\n",
    "#rf = RandomForest.fit(train, y_train)\n",
    "#gb = GBoost.fit(train,y_train)\n",
    "#xg = XGBoost.fit(train,y_train)\n",
    "en = ENet.fit(train, y_train)"
   ]
  },
  {
   "cell_type": "code",
   "execution_count": 63,
   "metadata": {},
   "outputs": [],
   "source": [
    "pred_lr = np.expm1(lr.predict(test))\n",
    "pred_ls = np.expm1(ls.predict(test))\n",
    "pred_rg = np.expm1(rg.predict(test))\n",
    "#pred_rf = np.expm1(rf.predict(test))\n",
    "#pred_gb = np.expm1(gb.predict(test))\n",
    "#pred_xg = np.expm1(xg.predict(test))\n",
    "pred_en = np.expm1(en.predict(test))\n",
    "pred_kr = np.expm1(kr.predict(test))"
   ]
  },
  {
   "cell_type": "markdown",
   "metadata": {},
   "source": [
    "### Mean of all model's prediction.\n",
    "np.expm1 ( ) is used to calculate exp(x) - 1 for all elements in the array. "
   ]
  },
  {
   "cell_type": "code",
   "execution_count": 93,
   "metadata": {},
   "outputs": [],
   "source": [
    "final_predictions = (pred_ls + pred_rg + pred_en + pred_kr) / 4\n",
    "# Tried weighted average, scored less\n",
    "final_weighted = (0.42 * pred_ls) + (0.18 * pred_rg) + (0.20 * pred_en) + (0.20 * pred_kr)"
   ]
  },
  {
   "cell_type": "markdown",
   "metadata": {},
   "source": [
    "### Check the predictions"
   ]
  },
  {
   "cell_type": "code",
   "execution_count": 91,
   "metadata": {},
   "outputs": [
    {
     "data": {
      "text/plain": [
       "array([3264628.72153768, 1728451.73464089, 7345048.46581766,\n",
       "       3650842.47285995, 7158527.25362357, 2779843.31964912,\n",
       "       2468296.11121481, 5649936.89960853, 3062466.84409037,\n",
       "       3433703.59641683, 3551823.77022157, 5546401.70070149,\n",
       "       5519456.02820734, 1851346.74503876, 4102232.83689114,\n",
       "       1915549.60786289, 3841511.85801393, 1418633.7399795 ,\n",
       "       4387637.41912822, 4438381.78328385, 4132555.98806967,\n",
       "       6225975.52703202, 6215186.47978419, 3347022.64858446,\n",
       "       2279987.35772922, 1720067.4633333 , 2265223.41553767,\n",
       "       3853754.68032787, 6382915.30433237, 3662541.08942197,\n",
       "       5919660.52428469, 7460592.18355838, 3445297.41923015,\n",
       "       5723753.62425276, 4519771.07922431, 4326536.65120466,\n",
       "        863452.18073512, 2644342.79589836, 1638751.58836708,\n",
       "       2964891.68042888, 3742746.84499017, 6047051.20282603,\n",
       "       1671376.65879027, 4861840.42927601, 1923880.96119124,\n",
       "       2729656.52248854, 2600130.43480169, 1601623.63043502,\n",
       "       4686325.52478715, 1493053.54277812, 3165628.42999202,\n",
       "       2315198.96517229, 2793670.9365805 , 5811807.56086752,\n",
       "       2110759.4967742 , 7037945.98140101, 3704616.47131406,\n",
       "       2468612.62825245, 1645641.55732133, 6477194.45448254,\n",
       "       4858271.5025474 , 2096293.8262595 , 4039561.83946161,\n",
       "       1776855.74559904, 1603599.78326634, 6779137.67889634,\n",
       "       3468898.08740419, 3243357.12890932, 2614518.94586813,\n",
       "       3278696.43811637, 3243804.65481729, 3972026.59895661,\n",
       "       2144314.15605442, 3632288.41863284, 2454741.79202436,\n",
       "       1831524.53509863, 3665495.90077261, 4082432.79133906,\n",
       "        613409.65985721, 4507646.41993325, 3346027.41302519,\n",
       "       5302951.67423668, 4691456.15394443, 4105294.19089841,\n",
       "       6240974.06134875, 4917007.23486696, 6049976.84334592,\n",
       "       2141394.13157313, 2881415.46018775, 1804762.4778898 ,\n",
       "       5817316.7185358 , 6542013.66392544, 4448692.78790652,\n",
       "       3432707.97906008, 4417151.20572133, 4855191.5350854 ,\n",
       "       1867268.05917226, 2420610.71612317, 5251014.43869492,\n",
       "       2112186.7925031 , 3999412.00913186, 2607115.92097602,\n",
       "       4357019.43951066, 3522353.21948932, 4022626.25064429,\n",
       "       3290315.41159581, 6347719.95644194, 4514455.83933173,\n",
       "       4118210.08044166, 3491546.8699891 , 1378107.24445463,\n",
       "       2232224.8426734 , 5417502.40980847, 3698263.5073398 ,\n",
       "       3914177.47185079, 1633312.13186858, 7397867.51083778,\n",
       "       2520722.864073  , 4663099.58970576, 3787020.37918123,\n",
       "       5251315.8627913 , 2599836.18733137, 3882886.84219665,\n",
       "       3161941.54990117, 4424692.27677775, 3756998.48044781,\n",
       "       3660308.17268743, 2246010.09256177, 1772003.7764222 ,\n",
       "       4024288.69378942, 5797334.38619225,  900470.81296132,\n",
       "       3301006.81182754, 6420077.18824772, 4389826.43231567,\n",
       "       3124965.14475129, 4370589.71813669, 2155970.06976943,\n",
       "       1701093.63558031, 2762902.21262403, 2926998.80232499,\n",
       "       2968380.33640513, 3953600.61993299, 3499539.36676284,\n",
       "       3267904.66496746, 3890346.15498751, 4915835.47314367,\n",
       "       5302878.89512544, 4494195.59061727, 3221959.01541559,\n",
       "       4081937.88864295, 3882532.05259096, 4429915.70912291,\n",
       "       4258860.50322998, 6323975.41748905, 7167886.90368423,\n",
       "       6631565.31291337, 3961496.30021892, 5390135.78106427,\n",
       "       2910538.87232224, 1821167.67960664, 4071159.2727033 ,\n",
       "       6785240.88089922, 5420688.85183711, 3085588.50450309,\n",
       "       3922571.34621378, 2992552.64932774, 3615515.71077004,\n",
       "       7068792.78334621, 3251143.87997997, 1193132.13018649,\n",
       "       3029565.20755909, 3839705.07084851, 4565475.34215223,\n",
       "       5177147.92544329, 4989061.73595438, 3568850.51984929,\n",
       "       4945964.97069165,  907683.40860233, 1853508.27208307,\n",
       "       6733130.34388857, 1513786.87965511, 5050889.24104926,\n",
       "       1626462.00847224, 2760675.67005459, 3197984.02727026,\n",
       "       3865973.01614554, 3188754.9818756 , 3857229.09684351,\n",
       "       5084966.54156967, 1434171.65741919, 3405334.31690279,\n",
       "       2138875.17954958, 6381606.9303606 , 6482801.11686457,\n",
       "       2053550.41053682, 3945817.60965034, 3208318.30668647,\n",
       "       3403365.02055104, 1957759.05805128, 1833195.08925603,\n",
       "       2787875.45036918, 5042833.49702196, 1590716.82944678,\n",
       "       2629612.97618785, 5002968.75639825, 4597848.01884701,\n",
       "       2285232.89307492, 2010868.31746329, 3549393.60659592,\n",
       "       5877926.43367938, 7248390.92430583, 1769023.24993266,\n",
       "       1789152.37662503, 2280384.90192001, 1273156.42659973,\n",
       "       4113930.66082406, 4454237.67284987, 3310170.41454817,\n",
       "       6591874.65153324, 4317550.96030479, 5829910.87120538,\n",
       "       3528122.59072279, 1265283.10006746, 2296370.3285097 ,\n",
       "       2556586.27619081, 3234308.57838369, 5546856.60069665,\n",
       "       2344618.29669149, 4725086.15276091, 3922975.10490201,\n",
       "       5540452.28139834, 2239925.20694293, 1407537.51408534,\n",
       "       3181326.00472679, 2928503.64553433, 2995124.52831651,\n",
       "       6778966.19856435, 1221668.91116831, 3894794.57260979,\n",
       "       4321087.28010875, 2932001.70935036, 5416977.31324791,\n",
       "       6908220.29618008, 1460166.94247284, 3160354.33549676,\n",
       "       5774081.21732184, 4892886.30312012, 5790433.39202658,\n",
       "       4380553.25986236, 4998312.12106177, 3399395.35433684,\n",
       "       2554412.39831553, 1322974.87828203, 2297046.18506088,\n",
       "       4107174.46785389, 6596782.3381801 , 3169167.64525428,\n",
       "       2529054.19495546, 2627940.00256231, 6832549.71978502,\n",
       "       1677150.04616072, 2210849.72807175, 4384696.57394942,\n",
       "       4547550.87451709, 3252297.1849858 , 2530804.7373329 ,\n",
       "       2930034.34311145, 5171081.65557228, 2987823.45181947,\n",
       "       6199682.28372623, 3893066.51167509, 3857132.70133736,\n",
       "       6712100.68237454, 5552845.83189112, 3815885.91444926,\n",
       "       4227892.81736419, 1991093.74166722, 1006046.22702366,\n",
       "       5643299.12474753, 1593356.61352268, 5210154.12886812,\n",
       "       5767298.84078898, 2785431.80455112, 3467908.40551041,\n",
       "       3699107.0889763 , 6215961.78962011, 6244380.06957662,\n",
       "       2312084.5118118 , 1511963.37662835, 3657989.65788753,\n",
       "       3869343.05370875, 2651574.65111726, 2422656.49827985,\n",
       "       6623469.37601399, 3512758.33763166, 2030321.2289238 ,\n",
       "       1518781.73264236, 3531553.22344591, 1906981.76014989,\n",
       "       2486324.88326847, 5774440.12778868, 2138832.84449169,\n",
       "       2276553.32692002, 1772568.40666263, 4114526.50929456,\n",
       "       3933038.32956348, 5145794.31252003, 4113681.64016017,\n",
       "       1758577.62928864, 5315766.82445932, 1499309.39674697,\n",
       "       1609119.43313668, 2514478.69509258, 4985467.61640585,\n",
       "       4044275.61822715, 1647689.28189958, 4663513.6105711 ,\n",
       "       1295315.30368759, 5052916.12681541, 3710081.06455444,\n",
       "       1703079.36820999, 4594155.25847818, 1949515.77783218,\n",
       "       7354827.65432313, 4338400.72692349, 1426956.94140739,\n",
       "       1218243.04481889, 4910136.32944589, 4468063.74416034,\n",
       "       4181025.41172152, 5032100.81548813, 1880938.13242862,\n",
       "       4382480.51569279, 6112012.98996153, 1802699.85742546,\n",
       "       4315919.94763199, 5217274.97364021])"
      ]
     },
     "execution_count": 91,
     "metadata": {},
     "output_type": "execute_result"
    }
   ],
   "source": [
    "final_weighted"
   ]
  },
  {
   "cell_type": "markdown",
   "metadata": {},
   "source": [
    "***\n",
    "<a id='section10'></a>\n",
    "## 10. Output for Kaggle submission"
   ]
  },
  {
   "cell_type": "code",
   "execution_count": 94,
   "metadata": {},
   "outputs": [
    {
     "data": {
      "text/plain": [
       "\"\\noutput_avg = pd.DataFrame({'house-id':test_id['house-id'], 'price': pred_ls})\\noutput_avg.to_csv('sub-ls32.csv', index=False)\""
      ]
     },
     "execution_count": 94,
     "metadata": {},
     "output_type": "execute_result"
    }
   ],
   "source": [
    "#Output to CSV\n",
    "'''output_avg = pd.DataFrame({'house-id':test_id['house-id'], 'price': final_predictions})\n",
    "output_avg.to_csv('sub33.csv', index=False)'''\n",
    "\n",
    "output_avg = pd.DataFrame({'house-id':test_id['house-id'], 'price': final_weighted})\n",
    "output_avg.to_csv('sub-weighted310.csv', index=False)\n",
    "'''\n",
    "output_avg = pd.DataFrame({'house-id':test_id['house-id'], 'price': pred_ls})\n",
    "output_avg.to_csv('sub-ls32.csv', index=False)'''"
   ]
  }
 ],
 "metadata": {
  "kernelspec": {
   "display_name": "Python 3",
   "language": "python",
   "name": "python3"
  },
  "language_info": {
   "codemirror_mode": {
    "name": "ipython",
    "version": 3
   },
   "file_extension": ".py",
   "mimetype": "text/x-python",
   "name": "python",
   "nbconvert_exporter": "python",
   "pygments_lexer": "ipython3",
   "version": "3.7.1"
  }
 },
 "nbformat": 4,
 "nbformat_minor": 2
}
